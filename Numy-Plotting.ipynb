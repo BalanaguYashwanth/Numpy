{
 "cells": [
  {
   "cell_type": "code",
   "execution_count": 9,
   "metadata": {},
   "outputs": [],
   "source": [
    "import seaborn as sns\n",
    "import numpy as np\n",
    "import pandas as pd\n",
    "import matplotlib.pyplot as plt\n",
    "x=np.linspace(0,10,100)\n",
    "y=np.power(x,0.5)"
   ]
  },
  {
   "cell_type": "code",
   "execution_count": null,
   "metadata": {},
   "outputs": [],
   "source": [
    "sns.set()\n",
    "sns.lineplot(x,y)"
   ]
  },
  {
   "cell_type": "code",
   "execution_count": null,
   "metadata": {},
   "outputs": [],
   "source": [
    "data=pd.read_csv('mobile_cleaned.csv')\n",
    "data.head()"
   ]
  },
  {
   "cell_type": "code",
   "execution_count": null,
   "metadata": {},
   "outputs": [],
   "source": [
    "    ax=sns.scatterplot(x='battery_capacity',y='stand_by_time',data=data)"
   ]
  },
  {
   "cell_type": "code",
   "execution_count": null,
   "metadata": {},
   "outputs": [],
   "source": [
    "ax=sns.distplot(data['stand_by_time'],rug=True,bins=10,kde=True)"
   ]
  },
  {
   "cell_type": "code",
   "execution_count": null,
   "metadata": {},
   "outputs": [],
   "source": [
    "ax=sns.boxplot(x='is_liked',y='battery_capacity',data=data)"
   ]
  },
  {
   "cell_type": "code",
   "execution_count": 12,
   "metadata": {},
   "outputs": [
    {
     "data": {
      "image/png": "[encoded data removed]",
      "text/plain": [
       "<Figure size 432x288 with 2 Axes>"
      ]
     },
     "metadata": {
      "needs_background": "light"
     },
     "output_type": "display_data"
    }
   ],
   "source": [
    "x=np.random.rand(10,12)\n",
    "a=sns.heatmap(x)"
   ]
  },
  {
   "cell_type": "code",
   "execution_count": 18,
   "metadata": {},
   "outputs": [
    {
     "name": "stdout",
     "output_type": "stream",
     "text": [
      "[[[171 229 178]\n",
      "  [171 229 178]\n",
      "  [171 229 178]\n",
      "  ...\n",
      "  [171 229 178]\n",
      "  [171 229 178]\n",
      "  [171 229 178]]\n",
      "\n",
      " [[171 229 178]\n",
      "  [171 229 178]\n",
      "  [171 229 178]\n",
      "  ...\n",
      "  [171 229 178]\n",
      "  [171 229 178]\n",
      "  [171 229 178]]\n",
      "\n",
      " [[171 229 178]\n",
      "  [171 229 178]\n",
      "  [171 229 178]\n",
      "  ...\n",
      "  [171 229 178]\n",
      "  [171 229 178]\n",
      "  [171 229 178]]\n",
      "\n",
      " ...\n",
      "\n",
      " [[171 229 178]\n",
      "  [171 229 178]\n",
      "  [171 229 178]\n",
      "  ...\n",
      "  [171 229 178]\n",
      "  [171 229 178]\n",
      "  [171 229 178]]\n",
      "\n",
      " [[171 229 178]\n",
      "  [171 229 178]\n",
      "  [171 229 178]\n",
      "  ...\n",
      "  [171 229 178]\n",
      "  [171 229 178]\n",
      "  [171 229 178]]\n",
      "\n",
      " [[171 229 178]\n",
      "  [171 229 178]\n",
      "  [171 229 178]\n",
      "  ...\n",
      "  [171 229 178]\n",
      "  [171 229 178]\n",
      "  [171 229 178]]]\n"
     ]
    }
   ],
   "source": [
    "import matplotlib.image as mpim\n",
    "a=mpim.imread('image.jpg')\n",
    "#b=plt.imshow('image.jpg')\n",
    "print(a)"
   ]
  },
  {
   "cell_type": "code",
   "execution_count": null,
   "metadata": {},
   "outputs": [],
   "source": []
  },
  {
   "cell_type": "code",
   "execution_count": null,
   "metadata": {},
   "outputs": [],
   "source": []
  },
  {
   "cell_type": "code",
   "execution_count": null,
   "metadata": {},
   "outputs": [],
   "source": []
  }
 ],
 "metadata": {
  "kernelspec": {
   "display_name": "Python 3",
   "language": "python",
   "name": "python3"
  },
  "language_info": {
   "codemirror_mode": {
    "name": "ipython",
    "version": 3
   },
   "file_extension": ".py",
   "mimetype": "text/x-python",
   "name": "python",
   "nbconvert_exporter": "python",
   "pygments_lexer": "ipython3",
   "version": "3.7.3"
  }
 },
 "nbformat": 4,
 "nbformat_minor": 2
}
