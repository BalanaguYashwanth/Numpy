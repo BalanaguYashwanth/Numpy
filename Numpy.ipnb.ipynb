{
 "cells": [
  {
   "cell_type": "code",
   "execution_count": 14,
   "metadata": {},
   "outputs": [],
   "source": [
    "import numpy as np\n",
    "    "
   ]
  },
  {
   "cell_type": "code",
   "execution_count": 15,
   "metadata": {},
   "outputs": [
    {
     "name": "stdout",
     "output_type": "stream",
     "text": [
      "[1 2]\n"
     ]
    }
   ],
   "source": [
    "a=[1,2]\n",
    "t=np.asarray(a)\n",
    "print(t)"
   ]
  },
  {
   "cell_type": "code",
   "execution_count": 16,
   "metadata": {},
   "outputs": [
    {
     "name": "stdout",
     "output_type": "stream",
     "text": [
      "[1. 2.]\n"
     ]
    }
   ],
   "source": [
    "t=np.asarray(a,float)\n",
    "print(t)"
   ]
  },
  {
   "cell_type": "code",
   "execution_count": 17,
   "metadata": {},
   "outputs": [
    {
     "data": {
      "text/plain": [
       "(2,)"
      ]
     },
     "execution_count": 17,
     "metadata": {},
     "output_type": "execute_result"
    }
   ],
   "source": [
    "t.shape"
   ]
  },
  {
   "cell_type": "code",
   "execution_count": 18,
   "metadata": {},
   "outputs": [
    {
     "name": "stdout",
     "output_type": "stream",
     "text": [
      "[[1 2 3]\n",
      " [4 5 6]]\n"
     ]
    }
   ],
   "source": [
    "t=np.array([[1,2,3],[4,5,6]])\n",
    "print(t)"
   ]
  },
  {
   "cell_type": "code",
   "execution_count": 19,
   "metadata": {},
   "outputs": [
    {
     "data": {
      "text/plain": [
       "(2, 3)"
      ]
     },
     "execution_count": 19,
     "metadata": {},
     "output_type": "execute_result"
    }
   ],
   "source": [
    "t.shape"
   ]
  },
  {
   "cell_type": "code",
   "execution_count": 21,
   "metadata": {},
   "outputs": [
    {
     "name": "stdout",
     "output_type": "stream",
     "text": [
      "[[0. 0. 0.]\n",
      " [0. 0. 0.]]\n"
     ]
    }
   ],
   "source": [
    "t=np.zeros((2,3))\n",
    "print(t)"
   ]
  },
  {
   "cell_type": "code",
   "execution_count": 24,
   "metadata": {},
   "outputs": [
    {
     "name": "stdout",
     "output_type": "stream",
     "text": [
      "[[1. 1. 1.]\n",
      " [1. 1. 1.]]\n"
     ]
    }
   ],
   "source": [
    "t=np.ones((2,3))\n",
    "print(t)"
   ]
  },
  {
   "cell_type": "code",
   "execution_count": 27,
   "metadata": {},
   "outputs": [
    {
     "name": "stdout",
     "output_type": "stream",
     "text": [
      "[[1. 0. 0.]\n",
      " [0. 1. 0.]\n",
      " [0. 0. 1.]]\n"
     ]
    }
   ],
   "source": [
    "t=np.eye(3,3)\n",
    "print(t)"
   ]
  },
  {
   "cell_type": "markdown",
   "metadata": {},
   "source": [
    "# Random\n"
   ]
  },
  {
   "cell_type": "code",
   "execution_count": 34,
   "metadata": {},
   "outputs": [
    {
     "name": "stdout",
     "output_type": "stream",
     "text": [
      "[[0.96979995 0.28145543 0.83389743 0.52217138 0.70786545]\n",
      " [0.56831987 0.75674842 0.56759742 0.75505104 0.65165748]\n",
      " [0.21261947 0.69217648 0.53124062 0.94228955 0.86841317]\n",
      " [0.48690584 0.63540468 0.07958284 0.51060667 0.02248989]]\n"
     ]
    }
   ],
   "source": [
    "x=np.random.random((4,5))\n",
    "print(x)"
   ]
  },
  {
   "cell_type": "code",
   "execution_count": 36,
   "metadata": {},
   "outputs": [
    {
     "name": "stdout",
     "output_type": "stream",
     "text": [
      "[[0.96979995 0.56831987 0.21261947 0.48690584]\n",
      " [0.28145543 0.75674842 0.69217648 0.63540468]\n",
      " [0.83389743 0.56759742 0.53124062 0.07958284]\n",
      " [0.52217138 0.75505104 0.94228955 0.51060667]\n",
      " [0.70786545 0.65165748 0.86841317 0.02248989]]\n"
     ]
    }
   ],
   "source": [
    "d=x.T  #Matrix Transpose\n",
    "print(d)"
   ]
  },
  {
   "cell_type": "code",
   "execution_count": 41,
   "metadata": {},
   "outputs": [
    {
     "name": "stdout",
     "output_type": "stream",
     "text": [
      "[[0.96979995 0.56831987 0.21261947 0.48690584 0.28145543 0.75674842\n",
      "  0.69217648 0.63540468 0.83389743 0.56759742 0.53124062 0.07958284\n",
      "  0.52217138 0.75505104 0.94228955 0.51060667 0.70786545 0.65165748\n",
      "  0.86841317 0.02248989]]\n"
     ]
    }
   ],
   "source": [
    "c=d.reshape(1,20)\n",
    "print(c)"
   ]
  },
  {
   "cell_type": "code",
   "execution_count": 42,
   "metadata": {},
   "outputs": [
    {
     "name": "stdout",
     "output_type": "stream",
     "text": [
      "[[0.96979995]\n",
      " [0.56831987]\n",
      " [0.21261947]\n",
      " [0.48690584]\n",
      " [0.28145543]\n",
      " [0.75674842]\n",
      " [0.69217648]\n",
      " [0.63540468]\n",
      " [0.83389743]\n",
      " [0.56759742]\n",
      " [0.53124062]\n",
      " [0.07958284]\n",
      " [0.52217138]\n",
      " [0.75505104]\n",
      " [0.94228955]\n",
      " [0.51060667]\n",
      " [0.70786545]\n",
      " [0.65165748]\n",
      " [0.86841317]\n",
      " [0.02248989]]\n"
     ]
    }
   ],
   "source": [
    "c=d.reshape(20,1)\n",
    "print(c)"
   ]
  },
  {
   "cell_type": "markdown",
   "metadata": {},
   "source": [
    "# Range"
   ]
  },
  {
   "cell_type": "code",
   "execution_count": 46,
   "metadata": {},
   "outputs": [
    {
     "name": "stdout",
     "output_type": "stream",
     "text": [
      "[0 1 2 3 4]\n",
      "[0 1 2 3 4]\n",
      "[0 2 4 6 8] [0 0 0 0 0] [ 0  1  4  9 16]\n"
     ]
    }
   ],
   "source": [
    "a=np.arange(5)\n",
    "print(a)\n",
    "\n",
    "b=np.arange(5)\n",
    "print(b)\n",
    "\n",
    "c=a+b;\n",
    "e=a-b;\n",
    "f=a*b;\n",
    "print(c,e,f)"
   ]
  },
  {
   "cell_type": "code",
   "execution_count": 47,
   "metadata": {},
   "outputs": [
    {
     "name": "stdout",
     "output_type": "stream",
     "text": [
      "[0 1 2 3 4] [1 2 3 4 5]\n"
     ]
    }
   ],
   "source": [
    "print(a,a+1)"
   ]
  },
  {
   "cell_type": "markdown",
   "metadata": {},
   "source": [
    "# Inner & outer "
   ]
  },
  {
   "cell_type": "code",
   "execution_count": 58,
   "metadata": {},
   "outputs": [
    {
     "name": "stdout",
     "output_type": "stream",
     "text": [
      "[[-1 -2 -3]\n",
      " [-2 -4 -6]\n",
      " [-3 -6 -9]]\n",
      "-14\n"
     ]
    }
   ],
   "source": [
    "v=[1,2,3]\n",
    "f=[-1,-2,-3]\n",
    "r=np.inner(v,f)\n",
    "g=np.outer(v,f)\n",
    "print(g)\n",
    "print(r)"
   ]
  },
  {
   "cell_type": "code",
   "execution_count": 59,
   "metadata": {},
   "outputs": [
    {
     "data": {
      "text/plain": [
       "-14"
      ]
     },
     "execution_count": 59,
     "metadata": {},
     "output_type": "execute_result"
    }
   ],
   "source": [
    "np.dot(v,f)"
   ]
  },
  {
   "cell_type": "code",
   "execution_count": 72,
   "metadata": {},
   "outputs": [
    {
     "name": "stdout",
     "output_type": "stream",
     "text": [
      "[[1. 1. 1.]\n",
      " [1. 1. 1.]]\n",
      "1.0\n"
     ]
    }
   ],
   "source": [
    "a=np.ones((2,3))\n",
    "b=np.ones((1,2))\n",
    "print(a)\n",
    "t=a.sum()\n",
    "t=a.sum(axis=0)\n",
    "t=a.max()\n",
    "print(t)"
   ]
  },
  {
   "cell_type": "code",
   "execution_count": null,
   "metadata": {},
   "outputs": [],
   "source": []
  },
  {
   "cell_type": "code",
   "execution_count": null,
   "metadata": {},
   "outputs": [],
   "source": []
  }
 ],
 "metadata": {
  "kernelspec": {
   "display_name": "Python 3",
   "language": "python",
   "name": "python3"
  },
  "language_info": {
   "codemirror_mode": {
    "name": "ipython",
    "version": 3
   },
   "file_extension": ".py",
   "mimetype": "text/x-python",
   "name": "python",
   "nbconvert_exporter": "python",
   "pygments_lexer": "ipython3",
   "version": "3.7.3"
  }
 },
 "nbformat": 4,
 "nbformat_minor": 2
}
